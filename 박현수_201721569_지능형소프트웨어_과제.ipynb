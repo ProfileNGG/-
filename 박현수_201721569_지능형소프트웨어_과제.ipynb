{
  "nbformat": 4,
  "nbformat_minor": 0,
  "metadata": {
    "colab": {
      "provenance": [],
      "authorship_tag": "ABX9TyNqvVL9+Wmr6S8WF2rG3O9d",
      "include_colab_link": true
    },
    "kernelspec": {
      "name": "python3",
      "display_name": "Python 3"
    },
    "language_info": {
      "name": "python"
    }
  },
  "cells": [
    {
      "cell_type": "markdown",
      "metadata": {
        "id": "view-in-github",
        "colab_type": "text"
      },
      "source": [
        "<a href=\"https://colab.research.google.com/github/ProfileNGG/-/blob/main/%EB%B0%95%ED%98%84%EC%88%98_201721569_%EC%A7%80%EB%8A%A5%ED%98%95%EC%86%8C%ED%94%84%ED%8A%B8%EC%9B%A8%EC%96%B4_%EA%B3%BC%EC%A0%9C.ipynb\" target=\"_parent\"><img src=\"https://colab.research.google.com/assets/colab-badge.svg\" alt=\"Open In Colab\"/></a>"
      ]
    },
    {
      "cell_type": "code",
      "execution_count": 2,
      "metadata": {
        "id": "BS5n_cO4CF3g"
      },
      "outputs": [],
      "source": [
        "import numpy as np\n",
        "# 1. 초기화\n",
        "# (1) bandit 설정 (bandit 1 ~ 3을 사용할 것이므로 bandit[0]은 0으로 초기화)\n",
        "bandit = [[0, 0, 0, 0, 0],\n",
        "[1, 0, 8, 5, 2],\n",
        "[0, 1, -1, 2, 28],\n",
        "[7, -3, -3, -3, -3]]\n",
        "# (2) bandit에서 실행할 횟수\n",
        "action = [0, -1, -1, -1]\n",
        "# (3) Q 함수 (0으로 초기화)\n",
        "Q = np.array([-1.0, 0.0, 0.0, 0.0])\n",
        "# (4) alpha를 0.5로 초기화\n",
        "alpha = 0.5"
      ]
    },
    {
      "cell_type": "code",
      "source": [
        "# 2. k-armed bandit 수행\n",
        "# (1) 1번째로 선택할 bandit의 action을 선택\n",
        "selected = 3\n",
        "print(f\"[1] bandit {selected}\")\n",
        "action[selected] += 1"
      ],
      "metadata": {
        "colab": {
          "base_uri": "https://localhost:8080/"
        },
        "id": "goGaQ_W7CHTe",
        "outputId": "f1608654-ca3b-4826-d78c-e2cbc0e1f699"
      },
      "execution_count": 3,
      "outputs": [
        {
          "output_type": "stream",
          "name": "stdout",
          "text": [
            "[1] bandit 3\n"
          ]
        }
      ]
    },
    {
      "cell_type": "code",
      "source": [
        "# (2) 4번 bandit 선택을 수행\n",
        "for i in range(1, 5):\n",
        "  # (2-1) 선택한 bandit의 reward 가져오기\n",
        "  reward = bandit[selected][action[selected]]\n",
        "  # (2-2) 선택된 bandit의 Q 값 갱신\n",
        "  Q[selected] = Q[selected] + alpha * (reward - Q[selected])\n",
        "  # (2-3) 다음 action 선택\n",
        "  selected = np.argmax(Q)\n",
        "  print(f\"[{i+1}] bandit {selected} is selected\")\n",
        "  # (2-4) 선택한 bandit의 다음 action으로 이동\n",
        "  action[selected] += 1"
      ],
      "metadata": {
        "colab": {
          "base_uri": "https://localhost:8080/"
        },
        "id": "HU1sx6biCVhL",
        "outputId": "4783072a-22ae-4ffa-f828-2bfc5fe87bd9"
      },
      "execution_count": 5,
      "outputs": [
        {
          "output_type": "stream",
          "name": "stdout",
          "text": [
            "[2] bandit 3 is selected\n",
            "[3] bandit 3 is selected\n",
            "[4] bandit 1 is selected\n",
            "[5] bandit 1 is selected\n"
          ]
        }
      ]
    },
    {
      "cell_type": "code",
      "source": [
        "#1.Bandit class 정의\n",
        "class Bandit:\n",
        "  # (1) 변수 설정\n",
        "  def __init__(self, k, means, std_devs):\n",
        "    self.k = k\n",
        "    self.rewards = np.array([np.random.normal(loc=mean, scale=std_dev)\n",
        "    for mean, std_dev in zip(means, std_devs)])\n",
        "    self.Qs = np.zeros(k) # action values for each action\n",
        "    self.num_selected = np.zeros(k) # number of times each action was selected\n",
        "  # (2) reward 함수 정의: 선택한 action에 대한 reward를 return\n",
        "  def get_reward(self, action):\n",
        "    reward = self.rewards[action]\n",
        "    return reward\n",
        "  # (3) action 선택 함수 정의: 다음 action은 action_values (Qs) 중에서\n",
        "  # 가장 큰 값으로 선택\n",
        "  def choose_action(self):\n",
        "    action = np.argmax(self.Qs)\n",
        "    return action\n",
        "  # (4) action value (Q)를 update하는 함수 정의\n",
        "  def update_Qs(self, action, reward):\n",
        "    self.num_selected[action] += 1\n",
        "    alpha = 1.0 / self.num_selected[action]\n",
        "    self.Qs[action] += alpha * (reward - self.Qs[action])"
      ],
      "metadata": {
        "id": "fB907Sq6CfII"
      },
      "execution_count": 11,
      "outputs": []
    },
    {
      "cell_type": "code",
      "source": [
        "#2.초기화\n",
        "# (1) arm의 수 설정\n",
        "k = 3\n",
        "# (2) k-armed baidnt 초기화: Mean values for each action\n",
        "means = [2.75, 2.0, 2.5]\n",
        "std_devs = [0.5, 3.0, 2.0]\n",
        "bandit = Bandit(k, means, std_devs)\n",
        "# (3) 수행 횟수 설정\n",
        "n_iterations = 1000"
      ],
      "metadata": {
        "id": "z_PjOHy3Cqw-"
      },
      "execution_count": 12,
      "outputs": []
    },
    {
      "cell_type": "code",
      "source": [
        "#3.실행\n",
        "sum_reward = 0\n",
        "for i in range(n_iterations):\n",
        "  # (1) action을 수행할 bandit을 결정\n",
        "  action = bandit.choose_action()\n",
        "  # 첫번째 action은 1로 선택\n",
        "  if (i == 0):\n",
        "    action = 1\n",
        "    print(action)\n",
        "# (2) 선택한 action의 reward 가져오기\n",
        "reward = bandit.get_reward(action)\n",
        "sum_reward += reward\n",
        "# (3) 선택한 action의 Q 값 갱신\n",
        "bandit.update_Qs(action, reward)"
      ],
      "metadata": {
        "colab": {
          "base_uri": "https://localhost:8080/"
        },
        "id": "gkV26jilCzV_",
        "outputId": "309052b5-c579-45d1-918f-4a73c968388d"
      },
      "execution_count": 13,
      "outputs": [
        {
          "output_type": "stream",
          "name": "stdout",
          "text": [
            "1\n"
          ]
        }
      ]
    },
    {
      "cell_type": "code",
      "source": [
        "#4. 결과 출력\n",
        "print(\"Number of selections for each action: \", bandit.num_selected)\n",
        "print(\"Estimated values for each action: \", bandit.Qs)\n",
        "print(\"Sum of reward:\", sum_reward)"
      ],
      "metadata": {
        "colab": {
          "base_uri": "https://localhost:8080/"
        },
        "id": "4xXf-aCVDBxh",
        "outputId": "77de9754-718b-4aa5-bf4b-bb2256613da1"
      },
      "execution_count": 14,
      "outputs": [
        {
          "output_type": "stream",
          "name": "stdout",
          "text": [
            "Number of selections for each action:  [1. 0. 0.]\n",
            "Estimated values for each action:  [3.3317286 0.        0.       ]\n",
            "Sum of reward: 3.3317286012962732\n"
          ]
        }
      ]
    },
    {
      "cell_type": "code",
      "source": [
        "# Action 선택 함수\n",
        "class Bandit:\n",
        "  def __init__(self, k, means, std_devs):\n",
        "    self.epsilon = 0.1\n",
        "  # (3) random number를 선택\n",
        "  # 이 값이 epsilon보다 작으면 random한 bandit 선택\n",
        "  # 이 값이 epsilon보다 크면 이전과 같음\n",
        "  def choose_action(self):\n",
        "    if np.random.random() < self.epsilon:\n",
        "      action = np.random.choice(self.k)\n",
        "    else:\n",
        "      action = np.argmax(self.Qs)\n",
        "    return action"
      ],
      "metadata": {
        "id": "Z-aQesF-DCsn"
      },
      "execution_count": 15,
      "outputs": []
    },
    {
      "cell_type": "code",
      "source": [
        "# Qs의 초기값을 높은 값으로 설정\n",
        "class Bandit:\n",
        "# (1) 변수 설정\n",
        "  def __init__(self, k, means, std_devs, initial_value):\n",
        "    self.k = k\n",
        "    self.rewards = np.array([np.random.normal(loc=mean, scale=std_dev)\n",
        "    for mean, std_dev in zip(means, std_devs)])\n",
        "    self.Qs = np.full(k, initial_value) # action values for each action\n",
        "    self.num_selected = np.zeros(k) # number of times each action was selected\n",
        "# 2. 초기화\n",
        "# (2) k-armed baidnt 초기화: Mean values for each action\n",
        "means = [2.75, 2.0, 2.5]\n",
        "std_devs = [0.5, 3.0, 2.0]\n",
        "initial_value = 10.0\n",
        "bandit = Bandit(k, means, std_devs, initial_value)"
      ],
      "metadata": {
        "id": "B1mp-O1xDSwl"
      },
      "execution_count": 16,
      "outputs": []
    }
  ]
}